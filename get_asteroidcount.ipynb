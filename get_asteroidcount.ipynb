{
 "cells": [
  {
   "cell_type": "code",
   "execution_count": 8,
   "metadata": {},
   "outputs": [],
   "source": [
    "# developing function to get the current exoplanet count\n",
    "\n",
    "from astroquery.mpc import MPC"
   ]
  },
  {
   "cell_type": "code",
   "execution_count": 36,
   "metadata": {},
   "outputs": [
    {
     "name": "stdout",
     "output_type": "stream",
     "text": [
      "The total number of potentially hazardous asteroids is 2003\n",
      "Out of the potentially hazardous asteroids, 153 are bigger than 1 km, and 1850 are smaller than 1 km\n",
      "So the total number of potentially hazardous asteroids is 2003\n"
     ]
    }
   ],
   "source": [
    "# To find the number of potentially hazardous asteroids\n",
    "pha = MPC.query_objects('asteroid', pha=1)\n",
    "pha_count = len(pha)\n",
    "print(\"The total number of potentially hazardous asteroids is\", pha_count)\n",
    "\n",
    "phabig = MPC.query_objects('asteroid', pha=1, km_neo=1)\n",
    "phabigcount = len(phabig)\n",
    "phasmall = MPC.query_objects('asteroid', pha=1, km_neo=0)\n",
    "phasmallcount = len(phasmall)\n",
    "print(\"Out of the potentially hazardous asteroids,\", phabigcount, \"are bigger than 1 km, and\", phasmallcount, \"are smaller than 1 km\")\n",
    "\n",
    "phatotalcount = phabigcount + phasmallcount\n",
    "print(\"So the total number of potentially hazardous asteroids is\", phatotalcount)\n"
   ]
  },
  {
   "cell_type": "code",
   "execution_count": 41,
   "metadata": {},
   "outputs": [
    {
     "name": "stdout",
     "output_type": "stream",
     "text": [
      "The total number of near-Earth asteroids that are bigger than 1km is 901\n",
      "Out of the near-Earth asteroids that are bigger than 1km, 748 are not potentially hazardous, and 153 are potentially hazardous.\n",
      "So the total number of near-Earth asteroids that are bigger than 1km is 901\n"
     ]
    }
   ],
   "source": [
    "# To find the number of near-Earth asteroids greater than\n",
    "# 1km wide that are not potentially hazardous\n",
    "\n",
    "#neo1km = MPC.query_objects('asteroid', pha=0, km_neo=1)\n",
    "neo1km = MPC.query_objects('asteroid', km_neo=1)\n",
    "neo1km_count = len(neo1km)\n",
    "print(\"The total number of near-Earth asteroids that are bigger than 1km is\", neo1km_count)\n",
    "\n",
    "neo1kmnot = MPC.query_objects('asteroid', pha=0, km_neo=1)\n",
    "neo1kmnot_count = len(neo1kmnot)\n",
    "neo1kmpha = MPC.query_objects('asteroid', pha=1, km_neo=1)\n",
    "neo1kmpha_count = len(neo1kmpha)\n",
    "\n",
    "print(\"Out of the near-Earth asteroids that are bigger than 1km,\", neo1kmnot_count, \"are not potentially hazardous, and\", neo1kmpha_count, \"are potentially hazardous.\")\n",
    "\n",
    "neo1kmtotal_count = neo1kmnot_count + neo1kmpha_count\n",
    "print(\"So the total number of near-Earth asteroids that are bigger than 1km is\", neo1kmtotal_count)\n"
   ]
  },
  {
   "cell_type": "code",
   "execution_count": 18,
   "metadata": {},
   "outputs": [
    {
     "name": "stdout",
     "output_type": "stream",
     "text": [
      "17883\n"
     ]
    }
   ],
   "source": [
    "# To find the number of near-Earth asteroids smaller than\n",
    "# 1km wide that are not potentially hazardous\n",
    "\n",
    "neo0 = MPC.query_objects('asteroid', pha=0, km_neo=0, neo=1, orbit_type=0)\n",
    "neo1 = MPC.query_objects('asteroid', pha=0, km_neo=0, neo=1, orbit_type=1)\n",
    "neo2 = MPC.query_objects('asteroid', pha=0, km_neo=0, neo=1, orbit_type=2)\n",
    "neo3 = MPC.query_objects('asteroid', pha=0, km_neo=0, neo=1, orbit_type=3)\n",
    "neo4 = MPC.query_objects('asteroid', pha=0, km_neo=0, neo=1, orbit_type=4)\n",
    "neo5 = MPC.query_objects('asteroid', pha=0, km_neo=0, neo=1, orbit_type=5)\n",
    "neo6 = MPC.query_objects('asteroid', pha=0, km_neo=0, neo=1, orbit_type=6)\n",
    "neo7 = MPC.query_objects('asteroid', pha=0, km_neo=0, neo=1, orbit_type=7)\n",
    "neo8 = MPC.query_objects('asteroid', pha=0, km_neo=0, neo=1, orbit_type=8)\n",
    "neo9 = MPC.query_objects('asteroid', pha=0, km_neo=0, neo=1, orbit_type=9)\n",
    "neo10 = MPC.query_objects('asteroid', pha=0, km_neo=0, neo=1, orbit_type=10)\n",
    "neo_count = len(neo0)+len(neo1)+len(neo2)+len(neo3)+len(neo4)+len(neo5)+len(neo6)+len(neo7)+len(neo8)+len(neo9)+len(neo10)\n",
    "\n",
    "print(neo_count)\n"
   ]
  },
  {
   "cell_type": "code",
   "execution_count": 48,
   "metadata": {},
   "outputs": [
    {
     "name": "stdout",
     "output_type": "stream",
     "text": [
      "The total number of near-Earth asteroids is 20634\n"
     ]
    }
   ],
   "source": [
    "# add all values together: \n",
    "# all potentially hazardous asteroids, \n",
    "# all near-Earth asteroids that are greater than 1 km that are not potentially hazardous,\n",
    "# and all near-Earth asteroids smaller than 1 km that are not potentially hazardous\n",
    "\n",
    "total_asteroidcount =  pha_count + neo1kmnot_count + neo_count\n",
    "print(\"The total number of near-Earth asteroids is\", total_asteroidcount)"
   ]
  },
  {
   "cell_type": "code",
   "execution_count": null,
   "metadata": {},
   "outputs": [],
   "source": []
  }
 ],
 "metadata": {
  "kernelspec": {
   "display_name": "Python 3",
   "language": "python",
   "name": "python3"
  },
  "language_info": {
   "codemirror_mode": {
    "name": "ipython",
    "version": 3
   },
   "file_extension": ".py",
   "mimetype": "text/x-python",
   "name": "python",
   "nbconvert_exporter": "python",
   "pygments_lexer": "ipython3",
   "version": "3.7.4"
  }
 },
 "nbformat": 4,
 "nbformat_minor": 2
}
